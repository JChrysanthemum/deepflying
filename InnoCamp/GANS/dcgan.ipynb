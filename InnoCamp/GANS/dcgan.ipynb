{
 "cells": [
  {
   "cell_type": "markdown",
   "metadata": {},
   "source": [
    "# DCGAN (Deep Convolution Generative Adversial Network)\n",
    "\n",
    "##    ——深度卷积对抗生成网络\n",
    "\n",
    "\n",
    "\n",
    "<br>\n",
    "\n",
    " * [在 Google Colab 运行]()\n",
    " * [浏览 GitHub 源码 ](https://github.com/JChrysanthemum/deepflying/blob/master/InnoCamp/GANS/dcgan.ipynb)"
   ]
  },
  {
   "cell_type": "code",
   "execution_count": 5,
   "metadata": {},
   "outputs": [
    {
     "name": "stdout",
     "output_type": "stream",
     "text": [
      "Hi test for google cololab\n"
     ]
    }
   ],
   "source": [
    "print('Hi test for google cololab')"
   ]
  },
  {
   "cell_type": "code",
   "execution_count": null,
   "metadata": {},
   "outputs": [],
   "source": []
  },
  {
   "cell_type": "code",
   "execution_count": null,
   "metadata": {},
   "outputs": [],
   "source": []
  }
 ],
 "metadata": {
  "kernelspec": {
   "display_name": "Python 3",
   "language": "python",
   "name": "python3"
  },
  "language_info": {
   "codemirror_mode": {
    "name": "ipython",
    "version": 3
   },
   "file_extension": ".py",
   "mimetype": "text/x-python",
   "name": "python",
   "nbconvert_exporter": "python",
   "pygments_lexer": "ipython3",
   "version": "3.6.7"
  }
 },
 "nbformat": 4,
 "nbformat_minor": 2
}
