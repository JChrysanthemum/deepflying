{
  "nbformat": 4,
  "nbformat_minor": 0,
  "metadata": {
    "colab": {
      "name": "deepflying.ipynb",
      "version": "0.3.2",
      "provenance": [],
      "collapsed_sections": [],
      "toc_visible": true
    },
    "kernelspec": {
      "name": "python3",
      "display_name": "Python 3"
    },
    "accelerator": "GPU"
  },
  "cells": [
    {
      "cell_type": "markdown",
      "metadata": {
        "id": "_hFaUBVilVym",
        "colab_type": "text"
      },
      "source": [
        "# 对抗生成网络与神经网络风格迁移的结合\n",
        "\n"
      ]
    },
    {
      "cell_type": "code",
      "metadata": {
        "id": "jsNiA8ImrUyw",
        "colab_type": "code",
        "outputId": "ed9bbac1-e35b-4d0f-a5a8-cf659f15f26b",
        "colab": {
          "base_uri": "https://localhost:8080/",
          "height": 55
        }
      },
      "source": [
        "import tensorflow as tf\n",
        "import keras as k\n",
        "print(tf.__version__,k.__version__)"
      ],
      "execution_count": 0,
      "outputs": [
        {
          "output_type": "stream",
          "text": [
            "1.14.0 2.2.4\n"
          ],
          "name": "stdout"
        },
        {
          "output_type": "stream",
          "text": [
            "Using TensorFlow backend.\n"
          ],
          "name": "stderr"
        }
      ]
    },
    {
      "cell_type": "markdown",
      "metadata": {
        "id": "dGZLYBIwwMW5",
        "colab_type": "text"
      },
      "source": [
        "## 概述\n",
        "\n",
        "大家经过这几天对 NST（神经网络风格迁移）和DCGAN（深度卷积神经网络）的学习，已经对这两个经典的机器学习模型有了一定的认知。接下来我们就讲这两个技术进行结合。"
      ]
    },
    {
      "cell_type": "markdown",
      "metadata": {
        "id": "YkYGrfxNwrnE",
        "colab_type": "text"
      },
      "source": [
        "## 环境搭建\n"
      ]
    },
    {
      "cell_type": "markdown",
      "metadata": {
        "id": "9caB_grIxAbL",
        "colab_type": "text"
      },
      "source": [
        "###  所需包的导入"
      ]
    },
    {
      "cell_type": "code",
      "metadata": {
        "id": "1GE0_Mi9w1Qd",
        "colab_type": "code",
        "outputId": "1c24ed60-6c0e-4a2a-defe-e29274158e49",
        "colab": {
          "base_uri": "https://localhost:8080/",
          "height": 34
        }
      },
      "source": [
        "from __future__ import print_function, division\n",
        "import keras\n",
        "from keras.preprocessing.image import load_img, save_img, img_to_array\n",
        "import cv2\n",
        "\n",
        "import matplotlib.pyplot as plt\n",
        "%matplotlib inline\n",
        "\n",
        "import sys,os\n",
        "import numpy as np\n",
        "import sys"
      ],
      "execution_count": 0,
      "outputs": [
        {
          "output_type": "stream",
          "text": [
            "Using TensorFlow backend.\n"
          ],
          "name": "stderr"
        }
      ]
    },
    {
      "cell_type": "markdown",
      "metadata": {
        "id": "C9J9KH2Ilbl9",
        "colab_type": "text"
      },
      "source": [
        "###  数据下载与准备"
      ]
    },
    {
      "cell_type": "code",
      "metadata": {
        "id": "ndqD28eClexO",
        "colab_type": "code",
        "outputId": "cc2c9607-19ff-495d-93d3-3e1d8394c433",
        "colab": {
          "base_uri": "https://localhost:8080/",
          "height": 185
        }
      },
      "source": [
        "if not os.path.exists('DeepFlying'):\n",
        "    os.makedirs('DeepFlying') \n",
        "\n",
        "if not os.path.exists('NST/data'):\n",
        "    os.makedirs('NST/data') \n",
        "\n",
        "if not os.path.exists('GAN/models'):\n",
        "    os.makedirs('GAN/models') \n",
        "\n",
        "!wget -q https://github.com/JChrysanthemum/deepflying/raw/master/InnoCamp/NST/pics/content.png -O NST/data/c1.png\n",
        "!wget -q https://github.com/JChrysanthemum/deepflying/raw/master/InnoCamp/NST/pics/style.jpg -O NST/data/s1.jpg\n",
        "!wget -q https://github.com/JChrysanthemum/deepflying/raw/master/InnoCamp/GANS/models/models.zip -O GAN/models/models.zip\n",
        "!wget -q https://github.com/JChrysanthemum/deepflying/raw/master/DraftVersion/NST/styleTransfer.py -O DeepFlying/styleTransfer.py\n",
        "!unzip -o GAN/models/models.zip -d GAN/models/\n",
        "\n",
        "import DeepFlying.styleTransfer as st"
      ],
      "execution_count": 0,
      "outputs": [
        {
          "output_type": "stream",
          "text": [
            "Archive:  GAN/models/models.zip\n",
            "  inflating: GAN/models/bag.h5       \n",
            "  inflating: GAN/models/coat.h5      \n",
            "  inflating: GAN/models/dress.h5     \n",
            "  inflating: GAN/models/pullover.h5  \n",
            "  inflating: GAN/models/ReadMe.md    \n",
            "  inflating: GAN/models/sandal.h5    \n",
            "  inflating: GAN/models/shirt.h5     \n",
            "  inflating: GAN/models/sneaker.h5   \n",
            "  inflating: GAN/models/ankle_boot.h5  \n"
          ],
          "name": "stdout"
        }
      ]
    },
    {
      "cell_type": "markdown",
      "metadata": {
        "id": "duLqppl4xrWU",
        "colab_type": "text"
      },
      "source": [
        "## 代码编写"
      ]
    },
    {
      "cell_type": "markdown",
      "metadata": {
        "id": "VZZrTWCyxynD",
        "colab_type": "text"
      },
      "source": [
        "### 参数定义"
      ]
    },
    {
      "cell_type": "code",
      "metadata": {
        "id": "XRnxWrselopV",
        "colab_type": "code",
        "colab": {}
      },
      "source": [
        "st.target_image_path = \"gan.png\"\n",
        "st.style_reference_path = \"NST/data/style.jpg\"\n",
        "\n",
        "#@markdown 迭代次数\n",
        "st.iter_size = 10 #@param {type:\"slider\", min:10, max:200, step:5}\n",
        "#@markdown 生成器模型\n",
        "generator_path = 'shirt' #@param ['ankle_boot', 'bag', 'coat', 'dress','pullover','sandal','shirt','sneaker','trouser']\n",
        "generator_path = 'GAN/models/'+ generator_path + '.h5'\n"
      ],
      "execution_count": 0,
      "outputs": []
    },
    {
      "cell_type": "markdown",
      "metadata": {
        "id": "3TqWNhrHjz7y",
        "colab_type": "text"
      },
      "source": [
        "### 构造生成器"
      ]
    },
    {
      "cell_type": "code",
      "metadata": {
        "id": "kPDRlkQToBYa",
        "colab_type": "code",
        "outputId": "dc787702-3c16-44e5-fc83-90bdd780439b",
        "colab": {
          "base_uri": "https://localhost:8080/",
          "height": 574
        }
      },
      "source": [
        "class Generator:\n",
        "    def __init__(self):\n",
        "        self.generator = keras.models.load_model(generator_path)\n",
        "        self.generator.trainable =False\n",
        "        \n",
        "\n",
        "    def save_imgs(self):\n",
        "\n",
        "        noise = np.random.normal(0, 1, (1, 100))\n",
        "        gen_imgs = self.generator.predict(noise)\n",
        "        \n",
        "        # Rescale images 0 - 1\n",
        "        gen_imgs = 0.5 * gen_imgs + 0.5\n",
        "\n",
        "        # Write these images to files\n",
        "        fig, axs = plt.subplots(1,1)\n",
        "        plt.imshow(gen_imgs[ 0, :, :, 0], cmap='gray')\n",
        "        gen_imgs=cv2.cvtColor(gen_imgs[ 0, :, :, 0],cv2.COLOR_GRAY2BGR)*255\n",
        "        \n",
        "        cv2.imwrite(\"gan.png\",gen_imgs)\n",
        "\n",
        "        return gen_imgs\n",
        "      \n",
        "generator = Generator()\n",
        "img = generator.save_imgs()\n",
        "\n"
      ],
      "execution_count": 0,
      "outputs": [
        {
          "output_type": "stream",
          "text": [
            "WARNING: Logging before flag parsing goes to stderr.\n",
            "W0619 14:17:27.819039 140313428412288 deprecation_wrapper.py:119] From /usr/local/lib/python3.6/dist-packages/keras/backend/tensorflow_backend.py:517: The name tf.placeholder is deprecated. Please use tf.compat.v1.placeholder instead.\n",
            "\n",
            "W0619 14:17:27.871516 140313428412288 deprecation_wrapper.py:119] From /usr/local/lib/python3.6/dist-packages/keras/backend/tensorflow_backend.py:4138: The name tf.random_uniform is deprecated. Please use tf.random.uniform instead.\n",
            "\n",
            "W0619 14:17:27.902208 140313428412288 deprecation_wrapper.py:119] From /usr/local/lib/python3.6/dist-packages/keras/backend/tensorflow_backend.py:2018: The name tf.image.resize_nearest_neighbor is deprecated. Please use tf.compat.v1.image.resize_nearest_neighbor instead.\n",
            "\n",
            "W0619 14:17:27.947592 140313428412288 deprecation_wrapper.py:119] From /usr/local/lib/python3.6/dist-packages/keras/backend/tensorflow_backend.py:245: The name tf.get_default_graph is deprecated. Please use tf.compat.v1.get_default_graph instead.\n",
            "\n",
            "W0619 14:17:27.949221 140313428412288 deprecation_wrapper.py:119] From /usr/local/lib/python3.6/dist-packages/keras/backend/tensorflow_backend.py:174: The name tf.get_default_session is deprecated. Please use tf.compat.v1.get_default_session instead.\n",
            "\n",
            "W0619 14:17:27.952073 140313428412288 deprecation_wrapper.py:119] From /usr/local/lib/python3.6/dist-packages/keras/backend/tensorflow_backend.py:181: The name tf.ConfigProto is deprecated. Please use tf.compat.v1.ConfigProto instead.\n",
            "\n",
            "W0619 14:17:31.234066 140313428412288 deprecation_wrapper.py:119] From /usr/local/lib/python3.6/dist-packages/keras/backend/tensorflow_backend.py:1834: The name tf.nn.fused_batch_norm is deprecated. Please use tf.compat.v1.nn.fused_batch_norm instead.\n",
            "\n",
            "/usr/local/lib/python3.6/dist-packages/keras/engine/saving.py:292: UserWarning: No training configuration found in save file: the model was *not* compiled. Compile it manually.\n",
            "  warnings.warn('No training configuration found in save file: '\n"
          ],
          "name": "stderr"
        },
        {
          "output_type": "display_data",
          "data": {
            "image/png": "[encoded data removed]",
            "text/plain": [
              "<Figure size 432x288 with 1 Axes>"
            ]
          },
          "metadata": {
            "tags": []
          }
        }
      ]
    },
    {
      "cell_type": "markdown",
      "metadata": {
        "id": "mEXcrqq2qZnD",
        "colab_type": "text"
      },
      "source": [
        "### 进行风格迁移"
      ]
    },
    {
      "cell_type": "code",
      "metadata": {
        "id": "ZNL0D2DBqdSB",
        "colab_type": "code",
        "outputId": "f686eef0-85a1-4b29-9f43-4f94c4cd60cb",
        "colab": {
          "base_uri": "https://localhost:8080/",
          "height": 401
        }
      },
      "source": [
        "\n",
        "print(st.main())\n",
        "\n",
        "gan = load_img(\"gan.png\")\n",
        "gan = img_to_array(gan)\n",
        "gan = np.array(gan, np.uint8)\n",
        "\n",
        "nst = load_img(\"NST.png\")\n",
        "nst = img_to_array(nst)\n",
        "nst = np.array(nst, np.uint8)\n",
        "\n",
        "plt.figure(figsize=(5, 6))\n",
        "plt.subplot(2, 3, 1), plt.title('GAN')\n",
        "plt.axis('off')\n",
        "plt.imshow(gan)\n",
        "plt.subplot(2, 3, 2), plt.title('NST')\n",
        "plt.axis('off')\n",
        "plt.imshow(nst)\n",
        "plt.show()"
      ],
      "execution_count": 0,
      "outputs": [
        {
          "output_type": "stream",
          "text": [
            "W0619 14:17:36.373698 140313428412288 deprecation_wrapper.py:119] From /usr/local/lib/python3.6/dist-packages/keras/backend/tensorflow_backend.py:3976: The name tf.nn.max_pool is deprecated. Please use tf.nn.max_pool2d instead.\n",
            "\n"
          ],
          "name": "stderr"
        },
        {
          "output_type": "stream",
          "text": [
            "Downloading data from https://github.com/fchollet/deep-learning-models/releases/download/v0.1/vgg19_weights_tf_dim_ordering_tf_kernels_notop.h5\n",
            "80142336/80134624 [==============================] - 3s 0us/step\n"
          ],
          "name": "stdout"
        },
        {
          "output_type": "stream",
          "text": [
            "W0619 14:17:41.566132 140313428412288 variables.py:2429] Variable += will be deprecated. Use variable.assign_add if you want assignment to the variable value or 'x = x + y' if you want a new python Tensor object.\n",
            "W0619 14:17:41.764086 140313428412288 deprecation.py:323] From /usr/local/lib/python3.6/dist-packages/tensorflow/python/ops/math_grad.py:1205: add_dispatch_support.<locals>.wrapper (from tensorflow.python.ops.array_ops) is deprecated and will be removed in a future version.\n",
            "Instructions for updating:\n",
            "Use tf.where in 2.0, which has the same broadcast rule as np.where\n"
          ],
          "name": "stderr"
        },
        {
          "output_type": "stream",
          "text": [
            "[90%][==================  ]\n",
            "Image saved as NST.png \n",
            "\n",
            "\n",
            "\n",
            "None\n"
          ],
          "name": "stdout"
        },
        {
          "output_type": "display_data",
          "data": {
            "image/png": "[encoded data removed]",
            "text/plain": [
              "<Figure size 360x432 with 2 Axes>"
            ]
          },
          "metadata": {
            "tags": []
          }
        }
      ]
    }
  ]
}