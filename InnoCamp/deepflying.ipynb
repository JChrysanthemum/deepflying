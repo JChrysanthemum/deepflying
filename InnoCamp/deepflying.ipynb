{
 "cells": [
  {
   "cell_type": "markdown",
   "metadata": {
    "colab_type": "text",
    "id": "_hFaUBVilVym"
   },
   "source": [
    "# 对抗生成网络与神经网络风格迁移的结合\n",
    "\n"
   ]
  },
  {
   "cell_type": "markdown",
   "metadata": {
    "colab_type": "text",
    "id": "dGZLYBIwwMW5"
   },
   "source": [
    "## 概述\n",
    "\n",
    "大家经过这几天对 NST（神经网络风格迁移）和DCGAN（深度卷积神经网络）的学习，已经对这两个经典的机器学习模型有了一定的认知。接下来我们就讲这两个技术进行结合。"
   ]
  },
  {
   "cell_type": "markdown",
   "metadata": {
    "colab_type": "text",
    "id": "YkYGrfxNwrnE"
   },
   "source": [
    "## 环境搭建\n"
   ]
  },
  {
   "cell_type": "markdown",
   "metadata": {
    "colab_type": "text",
    "id": "9caB_grIxAbL"
   },
   "source": [
    "###  所需包的导入"
   ]
  },
  {
   "cell_type": "code",
   "execution_count": null,
   "metadata": {
    "colab": {
     "base_uri": "https://localhost:8080/",
     "height": 34
    },
    "colab_type": "code",
    "id": "1GE0_Mi9w1Qd",
    "outputId": "1c24ed60-6c0e-4a2a-defe-e29274158e49"
   },
   "outputs": [],
   "source": [
    "from __future__ import print_function, division\n",
    "import keras\n",
    "from keras.preprocessing.image import load_img, save_img, img_to_array\n",
    "import cv2\n",
    "\n",
    "import matplotlib.pyplot as plt\n",
    "%matplotlib inline\n",
    "\n",
    "import sys,os\n",
    "import numpy as np\n",
    "import sys"
   ]
  },
  {
   "cell_type": "markdown",
   "metadata": {
    "colab_type": "text",
    "id": "C9J9KH2Ilbl9"
   },
   "source": [
    "###  数据下载与准备"
   ]
  },
  {
   "cell_type": "code",
   "execution_count": null,
   "metadata": {
    "colab": {
     "base_uri": "https://localhost:8080/",
     "height": 185
    },
    "colab_type": "code",
    "id": "ndqD28eClexO",
    "outputId": "cc2c9607-19ff-495d-93d3-3e1d8394c433"
   },
   "outputs": [],
   "source": [
    "if not os.path.exists('NST/data'):\n",
    "    os.makedirs('NST/data') \n",
    "\n",
    "if not os.path.exists('GANS/models'):\n",
    "    os.makedirs('GANS/models') \n",
    "\n",
    "# !wget -q https://github.com/JChrysanthemum/deepflying/raw/master/InnoCamp/NST/pics/content.png -O NST/data/c1.png\n",
    "# !wget -q https://github.com/JChrysanthemum/deepflying/raw/master/InnoCamp/NST/pics/style.jpg -O NST/data/s1.jpg\n",
    "# !wget -q https://github.com/JChrysanthemum/deepflying/raw/master/InnoCamp/GANS/models/models.zip -O GAN/models/models.zip\n",
    "# !wget -q https://github.com/JChrysanthemum/deepflying/raw/master/DraftVersion/NST/styleTransfer.py -O DeepFlying/styleTransfer.py\n",
    "# !unzip -o GAN/models/models.zip -d GAN/models/\n",
    "\n",
    "from NST import styleTransfer as st\n"
   ]
  },
  {
   "cell_type": "markdown",
   "metadata": {
    "colab_type": "text",
    "id": "duLqppl4xrWU"
   },
   "source": [
    "## 代码编写"
   ]
  },
  {
   "cell_type": "markdown",
   "metadata": {
    "colab_type": "text",
    "id": "VZZrTWCyxynD"
   },
   "source": [
    "### 参数定义"
   ]
  },
  {
   "cell_type": "code",
   "execution_count": null,
   "metadata": {
    "colab": {},
    "colab_type": "code",
    "id": "XRnxWrselopV"
   },
   "outputs": [],
   "source": [
    "st.target_image_path = \"gan.png\"\n",
    "st.style_reference_path = \"NST/data/s1.jpg\"\n",
    "\n",
    "#@markdown 迭代次数\n",
    "st.iter_size = 10 #@param {type:\"slider\", min:10, max:200, step:5}\n",
    "#@markdown 生成器模型\n",
    "generator_path = 'shirt' #@param ['ankle_boot', 'bag', 'coat', 'dress','pullover','sandal','shirt','sneaker','trouser']\n",
    "generator_path = 'GANS/models/'+ generator_path + '.h5'\n",
    "\n",
    "# 显卡编号 可选 0 或 1\n",
    "os.environ['CUDA_VISIBLE_DEVICES'] = '0'\n",
    "import tensorflow as tf \n",
    "from keras.backend.tensorflow_backend import set_session \n",
    "\n",
    "# 显卡使用率 方便大家共同使用请勿更改此数值\n",
    "gpu_options = tf.GPUOptions(per_process_gpu_memory_fraction=0.2) \n",
    "sess = tf.Session(config=tf.ConfigProto(gpu_options=gpu_options))\n"
   ]
  },
  {
   "cell_type": "markdown",
   "metadata": {
    "colab_type": "text",
    "id": "3TqWNhrHjz7y"
   },
   "source": [
    "### 构造生成器"
   ]
  },
  {
   "cell_type": "code",
   "execution_count": null,
   "metadata": {
    "colab": {
     "base_uri": "https://localhost:8080/",
     "height": 574
    },
    "colab_type": "code",
    "id": "kPDRlkQToBYa",
    "outputId": "dc787702-3c16-44e5-fc83-90bdd780439b"
   },
   "outputs": [],
   "source": [
    "class Generator:\n",
    "    def __init__(self):\n",
    "        self.generator = keras.models.load_model(generator_path)\n",
    "        self.generator.trainable =False\n",
    "        \n",
    "\n",
    "    def save_imgs(self):\n",
    "\n",
    "        noise = np.random.normal(0, 1, (1, 100))\n",
    "        gen_imgs = self.generator.predict(noise)\n",
    "        \n",
    "        # Rescale images 0 - 1\n",
    "        gen_imgs = 0.5 * gen_imgs + 0.5\n",
    "\n",
    "        # Write these images to files\n",
    "        fig, axs = plt.subplots(1,1)\n",
    "        plt.imshow(gen_imgs[ 0, :, :, 0], cmap='gray')\n",
    "        gen_imgs=cv2.cvtColor(gen_imgs[ 0, :, :, 0],cv2.COLOR_GRAY2BGR)*255\n",
    "        \n",
    "        cv2.imwrite(\"gan.png\",gen_imgs)\n",
    "\n",
    "        return gen_imgs\n",
    "      \n",
    "generator = Generator()\n",
    "img = generator.save_imgs()\n",
    "\n"
   ]
  },
  {
   "cell_type": "markdown",
   "metadata": {
    "colab_type": "text",
    "id": "mEXcrqq2qZnD"
   },
   "source": [
    "### 进行风格迁移"
   ]
  },
  {
   "cell_type": "code",
   "execution_count": null,
   "metadata": {
    "colab": {
     "base_uri": "https://localhost:8080/",
     "height": 401
    },
    "colab_type": "code",
    "id": "ZNL0D2DBqdSB",
    "outputId": "f686eef0-85a1-4b29-9f43-4f94c4cd60cb"
   },
   "outputs": [],
   "source": [
    "\n",
    "print(st.main())\n",
    "\n",
    "gan = load_img(\"gan.png\")\n",
    "gan = img_to_array(gan)\n",
    "gan = np.array(gan, np.uint8)\n",
    "\n",
    "nst = load_img(\"NST.png\")\n",
    "nst = img_to_array(nst)\n",
    "nst = np.array(nst, np.uint8)\n",
    "\n",
    "plt.figure(figsize=(5, 6))\n",
    "plt.subplot(2, 3, 1), plt.title('GAN')\n",
    "plt.axis('off')\n",
    "plt.imshow(gan)\n",
    "plt.subplot(2, 3, 2), plt.title('NST')\n",
    "plt.axis('off')\n",
    "plt.imshow(nst)\n",
    "plt.show()"
   ]
  }
 ],
 "metadata": {
  "accelerator": "GPU",
  "colab": {
   "collapsed_sections": [],
   "name": "deepflying.ipynb",
   "provenance": [],
   "toc_visible": true,
   "version": "0.3.2"
  },
  "kernelspec": {
   "display_name": "Python 3",
   "language": "python",
   "name": "python3"
  },
  "language_info": {
   "codemirror_mode": {
    "name": "ipython",
    "version": 3
   },
   "file_extension": ".py",
   "mimetype": "text/x-python",
   "name": "python",
   "nbconvert_exporter": "python",
   "pygments_lexer": "ipython3",
   "version": "3.6.8"
  }
 },
 "nbformat": 4,
 "nbformat_minor": 1
}
